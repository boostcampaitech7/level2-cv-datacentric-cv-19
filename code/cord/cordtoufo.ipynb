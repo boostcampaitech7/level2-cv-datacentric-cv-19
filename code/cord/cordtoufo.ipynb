{
 "cells": [
  {
   "cell_type": "code",
   "execution_count": 14,
   "metadata": {},
   "outputs": [
    {
     "name": "stdout",
     "output_type": "stream",
     "text": [
      "모든 JSON 파일을 성공적으로 변환했습니다.\n"
     ]
    }
   ],
   "source": [
    "import os\n",
    "import json\n",
    "\n",
    "# JSON 파일이 있는 디렉토리 경로\n",
    "json_directory = '/data/ephemeral/home/newdataset/CORD/train/json'\n",
    "\n",
    "# 변환된 데이터를 저장할 디렉토리\n",
    "output_directory = '/data/ephemeral/home/newdataset/CORD/newtrainjson'\n",
    "os.makedirs(output_directory, exist_ok=True)  # 출력 디렉토리 생성\n",
    "\n",
    "# 모든 JSON 파일 처리\n",
    "for filename in os.listdir(json_directory):\n",
    "    if filename.endswith('.json'):\n",
    "        input_file_path = os.path.join(json_directory, filename)\n",
    "        \n",
    "        # 입력 JSON 데이터 읽기\n",
    "        with open(input_file_path, 'r', encoding='utf-8') as f:\n",
    "            input_data = json.load(f)\n",
    "\n",
    "        # 변환할 데이터 구조 초기화\n",
    "        output_data = {\n",
    "            \"images\": {\n",
    "                f\"{filename[:-5]}.png\": {\n",
    "                    \"paragraphs\": {},\n",
    "                    \"words\": {}  # words를 딕셔너리로 초기화\n",
    "                }\n",
    "            }\n",
    "        }\n",
    "\n",
    "        # valid_line 데이터 변환\n",
    "        for entry in input_data[\"valid_line\"]:\n",
    "            group_id = entry[\"group_id\"]\n",
    "            \n",
    "            # words 안의 각 단어 처리\n",
    "            for word in entry[\"words\"]:\n",
    "                quad = word[\"quad\"]\n",
    "                \n",
    "                # 변환된 데이터 추가\n",
    "                key = f\"{group_id:04d}\"  # group_id를 키로 사용\n",
    "                if key not in output_data[\"images\"][f\"{filename[:-5]}.png\"][\"words\"]:\n",
    "                    output_data[\"images\"][f\"{filename[:-5]}.png\"][\"words\"][key] = {\n",
    "                        \"transcription\": word[\"text\"],  # 각 단어의 텍스트를 transcription으로 사용\n",
    "                        \"points\": [\n",
    "                            [quad[\"x1\"], quad[\"y1\"]],\n",
    "                            [quad[\"x2\"], quad[\"y2\"]],\n",
    "                            [quad[\"x3\"], quad[\"y3\"]],\n",
    "                            [quad[\"x4\"], quad[\"y4\"]]\n",
    "                        ]\n",
    "                    }\n",
    "                else:\n",
    "                    # 키가 이미 존재하는 경우 기존 텍스트와 조합 (예: 여러 단어의 경우)\n",
    "                    output_data[\"images\"][f\"{filename[:-5]}.png\"][\"words\"][key][\"transcription\"] += \" \" + word[\"text\"]\n",
    "\n",
    "        # 변환된 데이터를 출력 파일로 저장\n",
    "        output_file_path = os.path.join(output_directory, filename)\n",
    "        with open(output_file_path, 'w', encoding='utf-8') as f:\n",
    "            json.dump(output_data, f, ensure_ascii=False, indent=4)\n",
    "\n",
    "print(\"모든 JSON 파일을 성공적으로 변환했습니다.\")\n"
   ]
  },
  {
   "cell_type": "code",
   "execution_count": 15,
   "metadata": {},
   "outputs": [
    {
     "name": "stdout",
     "output_type": "stream",
     "text": [
      "모든 JSON 파일을 성공적으로 결합했습니다.\n"
     ]
    }
   ],
   "source": [
    "import os\n",
    "import json\n",
    "\n",
    "# JSON 파일이 있는 디렉토리 경로\n",
    "json_directory = '/data/ephemeral/home/newdataset/CORD/newtrainjson'\n",
    "\n",
    "# 결합된 데이터를 저장할 파일 경로\n",
    "combined_json_path = '/data/ephemeral/home/newdataset/CORD/newtrainjson/combined.json'\n",
    "\n",
    "# 결합된 데이터 초기화\n",
    "combined_data = {\n",
    "    \"images\": {}\n",
    "}\n",
    "\n",
    "# 모든 JSON 파일 처리\n",
    "for filename in os.listdir(json_directory):\n",
    "    if filename.endswith('.json'):\n",
    "        input_file_path = os.path.join(json_directory, filename)\n",
    "        \n",
    "        # 입력 JSON 데이터 읽기\n",
    "        with open(input_file_path, 'r', encoding='utf-8') as f:\n",
    "            input_data = json.load(f)\n",
    "\n",
    "        # 각 이미지 데이터 결합\n",
    "        for image_name, image_data in input_data[\"images\"].items():\n",
    "            combined_data[\"images\"][image_name] = image_data\n",
    "\n",
    "# 결합된 데이터를 JSON 파일로 저장\n",
    "with open(combined_json_path, 'w', encoding='utf-8') as f:\n",
    "    json.dump(combined_data, f, ensure_ascii=False, indent=4)\n",
    "\n",
    "print(\"모든 JSON 파일을 성공적으로 결합했습니다.\")\n"
   ]
  }
 ],
 "metadata": {
  "kernelspec": {
   "display_name": "base",
   "language": "python",
   "name": "python3"
  },
  "language_info": {
   "codemirror_mode": {
    "name": "ipython",
    "version": 3
   },
   "file_extension": ".py",
   "mimetype": "text/x-python",
   "name": "python",
   "nbconvert_exporter": "python",
   "pygments_lexer": "ipython3",
   "version": "3.10.13"
  }
 },
 "nbformat": 4,
 "nbformat_minor": 2
}
